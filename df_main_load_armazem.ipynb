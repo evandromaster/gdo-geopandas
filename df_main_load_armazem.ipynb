{
 "cells": [
  {
   "cell_type": "code",
   "execution_count": 1,
   "metadata": {
    "scrolled": false
   },
   "outputs": [
    {
     "name": "stdout",
     "output_type": "stream",
     "text": [
      "importing Jupyter notebook from df_crimes.ipynb\n",
      "WARNING *** file size (43065522) not 512 + multiple of sector size (512)\n",
      "WARNING *** OLE2 inconsistency: SSCS size is 0 but SSAT size is non-zero\n"
     ]
    },
    {
     "name": "stderr",
     "output_type": "stream",
     "text": [
      "<string>:1: UserWarning: CRS mismatch between the CRS of left geometries and the CRS of right geometries.\n",
      "Use `to_crs()` to reproject one of the input geometries to match the CRS of the other.\n",
      "\n",
      "Left CRS: None\n",
      "Right CRS: GEOGCS[\"GRS 1980(IUGG, 1980)\",DATUM[\"D_unknown\",SP ...\n",
      "\n"
     ]
    },
    {
     "name": "stdout",
     "output_type": "stream",
     "text": [
      "stopped\n",
      "Empty DataFrame\n",
      "Columns: [NUMERO_REDS, LOGRADOURO_OCORRENCIA, LOGRADOURO_OCORRENCIA_NAO_CADASTRADO, LOGRADOURO_CRUZAMENTO, LOGRADOURO_CRUZAMENTO_NAO_CADASTRADO, NUMERO_LOGRADOURO, BAIRRO, BAIRRO_NAO_CADASTRADO, COMPLEMENTO_ENDERECO, PONTO_DE_REFERENCIA, MUNICIPIO, SETOR]\n",
      "Index: []\n",
      "Foram encontrados  Series([], Name: NUMERO_REDS, dtype: int64) registros inválidos.\n",
      "A ultima data é:  2021-09-20\n",
      "\u001b[1;33;40mUniverso Crimes     Importado com Sucesso\n",
      "importing Jupyter notebook from df_envolvidos.ipynb\n",
      "WARNING *** file size (43065522) not 512 + multiple of sector size (512)\n",
      "WARNING *** OLE2 inconsistency: SSCS size is 0 but SSAT size is non-zero\n"
     ]
    },
    {
     "name": "stderr",
     "output_type": "stream",
     "text": [
      "<string>:1: UserWarning: CRS mismatch between the CRS of left geometries and the CRS of right geometries.\n",
      "Use `to_crs()` to reproject one of the input geometries to match the CRS of the other.\n",
      "\n",
      "Left CRS: None\n",
      "Right CRS: GEOGCS[\"GRS 1980(IUGG, 1980)\",DATUM[\"D_unknown\",SP ...\n",
      "\n"
     ]
    },
    {
     "name": "stdout",
     "output_type": "stream",
     "text": [
      "Wall time: 2.99 ms\n",
      "Wall time: 444 ms\n",
      "\u001b[1;32;40mUniverso Envolvidos Importado com Sucesso\n",
      "importing Jupyter notebook from df_materiais.ipynb\n",
      "WARNING *** file size (43065522) not 512 + multiple of sector size (512)\n",
      "WARNING *** OLE2 inconsistency: SSCS size is 0 but SSAT size is non-zero\n",
      "\u001b[1;34;40mUniverso Materiais  Importado com Sucesso\n",
      "importing Jupyter notebook from df_armas_fgo.ipynb\n",
      "WARNING *** file size (43065522) not 512 + multiple of sector size (512)\n",
      "WARNING *** OLE2 inconsistency: SSCS size is 0 but SSAT size is non-zero\n",
      "\u001b[1;31;40mUniverso Armas Fogo Importado com Sucesso\n"
     ]
    }
   ],
   "source": [
    "#!pip install import_ipynb\n",
    "import pandas  as pd\n",
    "import import_ipynb\n",
    "\n",
    "\n",
    "import df_crimes\n",
    "print('\\033[1;33;40mUniverso Crimes     Importado com Sucesso')\n",
    "\n",
    "import df_envolvidos\n",
    "\n",
    "print('\\033[1;32;40mUniverso Envolvidos Importado com Sucesso')\n",
    "\n",
    "import df_materiais\n",
    "print('\\033[1;34;40mUniverso Materiais  Importado com Sucesso')\n",
    "\n",
    "import df_armas_fgo\n",
    "print('\\033[1;31;40mUniverso Armas Fogo Importado com Sucesso')\n",
    "\n",
    "# import df_extracao_ocorrencias\n",
    "# print('\\033[1;31;40mExtração Realizada com Sucesso')\n"
   ]
  },
  {
   "cell_type": "code",
   "execution_count": 2,
   "metadata": {},
   "outputs": [],
   "source": [
    "#!pip install gspread"
   ]
  },
  {
   "cell_type": "code",
   "execution_count": 3,
   "metadata": {},
   "outputs": [
    {
     "name": "stdout",
     "output_type": "stream",
     "text": [
      "Atualizado em: 21/09/2021, 09:37:30\n"
     ]
    }
   ],
   "source": [
    "\n",
    "import datetime as dt\n",
    "from datetime import datetime\n",
    "\n",
    "now = datetime.now() # current date and time\n",
    "date_time = now.strftime(\"%d/%m/%Y, %H:%M:%S\")\n",
    "print(\"Atualizado em:\",date_time)\n",
    "#print('Última execução:', dt.datetime.today().strftime(\"%d/%m/%Y\"))\n"
   ]
  }
 ],
 "metadata": {
  "kernelspec": {
   "display_name": "Python 3",
   "language": "python",
   "name": "python3"
  },
  "language_info": {
   "codemirror_mode": {
    "name": "ipython",
    "version": 3
   },
   "file_extension": ".py",
   "mimetype": "text/x-python",
   "name": "python",
   "nbconvert_exporter": "python",
   "pygments_lexer": "ipython3",
   "version": "3.8.8"
  }
 },
 "nbformat": 4,
 "nbformat_minor": 4
}
