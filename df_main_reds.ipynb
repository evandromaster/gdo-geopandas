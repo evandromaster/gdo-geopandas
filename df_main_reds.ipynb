{
 "cells": [
  {
   "cell_type": "code",
   "execution_count": 1,
   "metadata": {},
   "outputs": [],
   "source": [
    "#!pip install selenium\n",
    "#!pip install webdriver_manager"
   ]
  },
  {
   "cell_type": "code",
   "execution_count": 2,
   "metadata": {
    "scrolled": true
   },
   "outputs": [
    {
     "name": "stderr",
     "output_type": "stream",
     "text": [
      "\n",
      "\n"
     ]
    },
    {
     "name": "stdout",
     "output_type": "stream",
     "text": [
      "importing Jupyter notebook from df_reds.ipynb\n",
      "Data inicial:  14/09/2021 Ontém foi:  20/09/2021 Hoje é:  21/09/2021\n"
     ]
    },
    {
     "name": "stderr",
     "output_type": "stream",
     "text": [
      "====== WebDriver manager ======\n",
      "Current google-chrome version is 93.0.4577\n",
      "Get LATEST driver version for 93.0.4577\n",
      "Driver [C:\\Users\\geo\\.wdm\\drivers\\chromedriver\\win32\\93.0.4577.63\\chromedriver.exe] found in cache\n"
     ]
    },
    {
     "data": {
      "text/plain": [
       "'I:\\\\Cloud\\\\SQLite\\\\10 - Source\\\\transacional'"
      ]
     },
     "metadata": {},
     "output_type": "display_data"
    },
    {
     "name": "stdout",
     "output_type": "stream",
     "text": [
      "\u001b[1;33;40mRaspagem de dados realizada com sucesso\n",
      "importing Jupyter notebook from df_transacional.ipynb\n",
      "\u001b[1;32;40mTabela transacional tratada com Sucesso\n",
      "importing Jupyter notebook from df_extracao_ocorrencias.ipynb\n",
      "2312 registros CV em 2020\n",
      "1332  registros CV em 2021\n",
      "\u001b[1;31;40mExtração Realizada com Sucesso\n"
     ]
    }
   ],
   "source": [
    "#!pip install  import_ipynb\n",
    "#!pip install  selenium\n",
    "#!pip install webdriver_manager\n",
    "import pandas  as pd\n",
    "import import_ipynb\n",
    "\n",
    "import df_reds\n",
    "print('\\033[1;33;40mRaspagem de dados realizada com sucesso')\n",
    "\n",
    "import df_transacional\n",
    "\n",
    "print('\\033[1;32;40mTabela transacional tratada com Sucesso')\n",
    "\n",
    "\n",
    "import df_extracao_ocorrencias\n",
    "print('\\033[1;31;40mExtração Realizada com Sucesso')"
   ]
  },
  {
   "cell_type": "code",
   "execution_count": null,
   "metadata": {},
   "outputs": [],
   "source": []
  },
  {
   "cell_type": "code",
   "execution_count": 3,
   "metadata": {},
   "outputs": [
    {
     "name": "stdout",
     "output_type": "stream",
     "text": [
      "Atualizado em: 21/09/2021, 09:43:57\n"
     ]
    }
   ],
   "source": [
    "import datetime as dt\n",
    "from datetime import datetime\n",
    "\n",
    "now = datetime.now() # current date and time\n",
    "date_time = now.strftime(\"%d/%m/%Y, %H:%M:%S\")\n",
    "print(\"Atualizado em:\",date_time)\n",
    "#print('Última execução:', dt.datetime.today().strftime(\"%d/%m/%Y\"))\n"
   ]
  }
 ],
 "metadata": {
  "kernelspec": {
   "display_name": "Python 3",
   "language": "python",
   "name": "python3"
  },
  "language_info": {
   "codemirror_mode": {
    "name": "ipython",
    "version": 3
   },
   "file_extension": ".py",
   "mimetype": "text/x-python",
   "name": "python",
   "nbconvert_exporter": "python",
   "pygments_lexer": "ipython3",
   "version": "3.8.8"
  }
 },
 "nbformat": 4,
 "nbformat_minor": 4
}
