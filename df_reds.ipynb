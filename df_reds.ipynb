{
 "cells": [
  {
   "cell_type": "code",
   "execution_count": 1,
   "metadata": {},
   "outputs": [],
   "source": [
    "# #-------------- CAPTURANDO DATAS PARA A CHAMADA ------------------------\n",
    "# from datetime import datetime , timezone\n",
    "# #Dia anterior\n",
    "# hj = datetime.today()\n",
    "# hj.toordinal()\n",
    "# Periodo = datetime.fromordinal(hj.toordinal()-1).strftime('%d/%m/%Y')\n",
    "\n",
    "# Periodo"
   ]
  },
  {
   "cell_type": "code",
   "execution_count": 2,
   "metadata": {},
   "outputs": [],
   "source": [
    "from datetime import datetime, timedelta\n",
    "datetime.now() - timedelta(days=1)\n",
    "\n",
    "datainicial = (datetime.now() + timedelta(days=-7)).strftime('%d/%m/%Y')\n",
    "ontem = (datetime.now() + timedelta(days=-1)).strftime('%d/%m/%Y')\n",
    "hoje  = datetime.today().strftime('%d/%m/%Y')\n",
    "\n",
    "\n",
    "print(\"Data inicial: \", datainicial, \"Ontém foi: \", ontem, \"Hoje é: \", hoje)"
   ]
  },
  {
   "cell_type": "code",
   "execution_count": 3,
   "metadata": {},
   "outputs": [],
   "source": [
    "# from selenium import webdriver  #pip install selenium\n",
    "# from selenium.webdriver.common.keys import Keys\n",
    "# from webdriver_manager.chrome import ChromeDriverManager #pip install webdriver_manager\n",
    "\n",
    "# import time"
   ]
  },
  {
   "cell_type": "code",
   "execution_count": 4,
   "metadata": {},
   "outputs": [],
   "source": [
    "# #funcionou  no driver local\n",
    "# chromeOptions = webdriver.ChromeOptions()\n",
    "# prefs = {\"download.default_directory\" : r\"C:\\Users\\Evandro\\Downloads\\teste\"}\n",
    "# chromeOptions.add_experimental_option(\"prefs\",prefs)\n",
    "# chromedriver = \"chromedriver.exe\"\n",
    "# driver = webdriver.Chrome(executable_path=chromedriver, chrome_options=chromeOptions)\n",
    "\n",
    "# driver.get('http://www.usp.br/nereus/?dados=unidades-federativas')"
   ]
  },
  {
   "cell_type": "code",
   "execution_count": 5,
   "metadata": {},
   "outputs": [],
   "source": [
    "from selenium import webdriver  #pip install selenium\n",
    "from selenium.webdriver.common.keys import Keys\n",
    "from webdriver_manager.chrome import ChromeDriverManager #pip install webdriver_manager\n",
    "\n",
    "import time\n"
   ]
  },
  {
   "cell_type": "code",
   "execution_count": 6,
   "metadata": {},
   "outputs": [],
   "source": [
    "# #driver.session_id\n",
    "# #get_status(driver)\n",
    "\n",
    "# driver is None\n",
    "\n",
    "# print(driver.title)\n"
   ]
  },
  {
   "cell_type": "code",
   "execution_count": 7,
   "metadata": {},
   "outputs": [],
   "source": [
    "# def is_open():\n",
    "#     if driver.title == \"Registro de Eventos de Defesa Social (REDS)\":#home\n",
    "#         # #Abre o Chrome\n",
    "#         print('navegador aberto')\n",
    "#     elif os.path.isfile(r'D:\\Cloud\\SQLite\\10 - Source\\transacional\\relatorio.csv'):#office\n",
    "#         dir_reds  = r\"D:\\Cloud\\SQLite\\10 - Source\\transacional\\relatorio.csv\"\n",
    "#     else:\n",
    "#         dir_reds  = \"Arquivo não encontrado!\"\n",
    "#     return dir_reds    \n",
    "\n",
    "# is_open()"
   ]
  },
  {
   "cell_type": "code",
   "execution_count": 8,
   "metadata": {},
   "outputs": [
    {
     "data": {
      "text/plain": [
       "'I:\\\\Cloud\\\\SQLite\\\\10 - Source\\\\transacional'"
      ]
     },
     "execution_count": 8,
     "metadata": {},
     "output_type": "execute_result"
    }
   ],
   "source": [
    "import os\n",
    "def path():\n",
    "    \n",
    "    if os.path.exists(r'I:\\Cloud\\SQLite\\10 - Source\\transacional'):#home\n",
    "        dir_save  = r\"I:\\Cloud\\SQLite\\10 - Source\\transacional\"\n",
    "    elif os.path.exists(r\"D:\\Cloud\\SQLite\\10 - Source\\transacional\"):#office\n",
    "        dir_save  = r\"D:\\Cloud\\SQLite\\10 - Source\\transacional\"\n",
    "    else:\n",
    "        dir_save  = \"Arquivo não encontrado!\"\n",
    "    return dir_save    \n",
    "path()\n"
   ]
  },
  {
   "cell_type": "code",
   "execution_count": 9,
   "metadata": {
    "scrolled": false
   },
   "outputs": [
    {
     "name": "stderr",
     "output_type": "stream",
     "text": [
      "[WDM] - ====== WebDriver manager ======\n",
      "[WDM] - Current google-chrome version is 92.0.4515\n",
      "[WDM] - Get LATEST driver version for 92.0.4515\n"
     ]
    },
    {
     "name": "stdout",
     "output_type": "stream",
     "text": [
      "\n",
      "\n"
     ]
    },
    {
     "name": "stderr",
     "output_type": "stream",
     "text": [
      "[WDM] - There is no [win32] chromedriver for browser 92.0.4515 in cache\n",
      "[WDM] - Get LATEST driver version for 92.0.4515\n",
      "[WDM] - Trying to download new driver from https://chromedriver.storage.googleapis.com/92.0.4515.107/chromedriver_win32.zip\n",
      "[WDM] - Driver has been saved in cache [C:\\Users\\Evandro\\.wdm\\drivers\\chromedriver\\win32\\92.0.4515.107]\n"
     ]
    }
   ],
   "source": [
    "# #Abre o Chrome\n",
    "options = webdriver.ChromeOptions()\n",
    "#prefs = {\"download.default_directory\" : r\"I:\\Cloud\\SQLite\\10 - Source\\transacional\"} #home\n",
    "prefs = {\"download.default_directory\" : path()} \n",
    "#prefs = {\"download.default_directory\" : r\"D:\\Cloud\\SQLite\\10 - Source\\transacional\"} #office\n",
    "options.add_experimental_option(\"prefs\",prefs)\n",
    "driver = webdriver.Chrome(executable_path=ChromeDriverManager().install(), options=options)\n",
    "driver.get('https://web.sids.mg.gov.br/reds/') #abre o site Whatsapp Web"
   ]
  },
  {
   "cell_type": "code",
   "execution_count": 10,
   "metadata": {},
   "outputs": [
    {
     "data": {
      "text/plain": [
       "'I:\\\\Cloud\\\\SQLite\\\\10 - Source\\\\transacional'"
      ]
     },
     "metadata": {},
     "output_type": "display_data"
    }
   ],
   "source": [
    "display(r\"I:\\Cloud\\SQLite\\10 - Source\\transacional\")"
   ]
  },
  {
   "cell_type": "code",
   "execution_count": 11,
   "metadata": {},
   "outputs": [],
   "source": [
    "# html = driver.page_source\n",
    "# time.sleep(2)\n",
    "# print(html)"
   ]
  },
  {
   "cell_type": "code",
   "execution_count": 12,
   "metadata": {},
   "outputs": [],
   "source": [
    "#driver.find_element_by_xpath('/html/body/center/div/div[2]/div/form/table/tbody/tr[4]/td/div/input').click() pelo fullxpath também da certo"
   ]
  },
  {
   "cell_type": "code",
   "execution_count": 13,
   "metadata": {
    "scrolled": false
   },
   "outputs": [],
   "source": [
    "#certificados invalidos\n",
    "# driver.find_element_by_xpath('//*[@id=\"details-button\"]').click()\n",
    "# driver.find_element_by_xpath('//*[@id=\"proceed-link\"]').click()\n",
    "\n",
    "#entrar\n",
    "driver.find_element_by_name(\"josso_username\").send_keys(\"PM1348945\")\n",
    "driver.find_element_by_name(\"josso_password\" ).send_keys(\"2wsoifb6@@\")\n",
    "\n",
    "\n",
    "\n",
    "driver.find_element_by_xpath('//*[@id=\"authentication\"]/form/table/tbody/tr[4]/td/div/input').click()\n",
    "\n",
    "time.sleep(2)\n",
    "driver.find_element_by_xpath('//*[@id=\"avisoBrowser\"]/div[3]/a').click()# aviso de navegador não é compativel\n",
    "\n",
    "\n",
    "driver.find_element_by_xpath('//*[@id=\"listaMenu\"]/li[3]/a').click() # clicar  em consulta\n",
    "time.sleep(2)\n",
    "\n",
    "driver.find_element_by_xpath('//*[@id=\"listaMenu\"]/li[3]/ul/li[3]/a').click() # clicar  em registros historicos\n",
    "\n",
    "\n",
    "driver.find_element_by_name(\"inicio_periodo\").send_keys(datainicial)#preenche a data inicial\n",
    "driver.find_element_by_name(\"fim_periodo\").send_keys(ontem)#preenche a data final\n",
    "\n",
    "time.sleep(2)\n",
    "driver.find_element_by_xpath('//*[@id=\"camposPesquisaAvancada\"]/tbody/tr[6]/td/fieldset/legend').click() #Relacione abaixo valores a serem pesquisados e em quais campos:\n",
    "\n",
    "\n",
    "time.sleep(2)\n",
    "\n",
    "# #seleciona  a Natureza nos Campos Disponíveis:\n",
    "# driver.find_element_by_xpath('//*[@id=\"camposDisponiveis\"]/option[2]').click()#natureza\n",
    "\n",
    "# driver.find_element_by_xpath('//*[@id=\"camposPesquisaAvancada\"]/tbody/tr[6]/td/fieldset/div/table[2]/tbody/tr[2]/td[2]/input[1]').click()#setinha list\n",
    "\n",
    "\n",
    "# driver.find_element_by_name(\"consultaEspecifica\").send_keys(\"ROUBO\") # digita  a natureza nosParâmetros de pesquisa:\n",
    "\n",
    "# driver.find_element_by_name(\"inserirRegra\").click() # insere  a natureza nosParâmetros de pesquisa:\n",
    "\n",
    "#seleciona  a Unidade responsavel nos Campos Disponíveis:\n",
    "\n",
    "driver.find_element_by_xpath('//*[@id=\"camposDisponiveis\"]/option[8]').click()\n",
    "\n",
    "driver.find_element_by_xpath('//*[@id=\"camposPesquisaAvancada\"]/tbody/tr[6]/td/fieldset/div/table[2]/tbody/tr[2]/td[2]/input[1]').click()\n",
    "\n",
    "driver.find_element_by_name(\"consultaEspecifica\").send_keys(\"7 RPM\") # digita  a unidade nosParâmetros de pesquisa:\n",
    "\n",
    "driver.find_element_by_name(\"inserirRegra\").click() # insere  a unidade nos Parâmetros de pesquisa:\n",
    "\n",
    "driver.find_element_by_name(\"buscar\").click() # clica em buscar\n",
    "time.sleep(2)\n",
    "\n",
    "\n",
    "#remove o arquivo antes d salvar\n",
    "\n",
    "import os\n",
    "if os.path.exists(path()+\"\\\\relatorio.csv\"):\n",
    "    os.remove(path()+\"\\\\relatorio.csv\")\n",
    "else:\n",
    "    print(\"The file does not exist\")\n",
    "\n",
    "\n",
    "driver.find_element_by_name(\"CSV\").click()# clica em salvar o CSV\n",
    "time.sleep(5)"
   ]
  },
  {
   "cell_type": "code",
   "execution_count": null,
   "metadata": {},
   "outputs": [],
   "source": []
  },
  {
   "cell_type": "code",
   "execution_count": 14,
   "metadata": {
    "scrolled": true
   },
   "outputs": [
    {
     "data": {
      "text/plain": [
       "'I:\\\\Cloud\\\\SQLite\\\\10 - Source\\\\transacional\\\\relatorio.csv'"
      ]
     },
     "execution_count": 14,
     "metadata": {},
     "output_type": "execute_result"
    }
   ],
   "source": [
    "path()+\"\\\\relatorio.csv\""
   ]
  },
  {
   "cell_type": "code",
   "execution_count": 15,
   "metadata": {},
   "outputs": [],
   "source": [
    "time.sleep(2)\n",
    "#fecha o navegador\n",
    "driver.quit()"
   ]
  },
  {
   "cell_type": "code",
   "execution_count": 16,
   "metadata": {},
   "outputs": [],
   "source": [
    "#import shutil\n",
    "\n",
    "\n",
    "#Movendo os arquivos\n",
    "#shutil.move(r'C:\\Users\\Evandro\\Downloads\\relatorio.csv', r'I:\\Cloud\\SQLite\\10 - Source\\transacional\\relatorio.csv') # Home\n",
    "#shutil.move(r'C:\\Users\\geo\\Downloads\\relatorio.csv', r'D:\\Cloud\\SQLite\\10 - Source\\transacional\\relatorio.csv') # office"
   ]
  },
  {
   "cell_type": "code",
   "execution_count": 17,
   "metadata": {},
   "outputs": [],
   "source": [
    "# import os \n",
    "# import shutil\n",
    "\n",
    "# # Movendo e renomeando com os.rename\n",
    "# os.rename('diretorio/origem/nome-arquivo', 'diretorio/destino/novo-nome-arquivo')\n",
    "\n",
    "# # Movendo e renomeando com shutill\n",
    "# shutil.move('diretorio/origem/nome-arquivo', 'diretorio/destino/novo-nome-arquivo')"
   ]
  },
  {
   "cell_type": "code",
   "execution_count": 18,
   "metadata": {},
   "outputs": [],
   "source": [
    "# import os\n",
    "# os.system(\"start excel.exe\")"
   ]
  }
 ],
 "metadata": {
  "kernelspec": {
   "display_name": "Python 3",
   "language": "python",
   "name": "python3"
  },
  "language_info": {
   "codemirror_mode": {
    "name": "ipython",
    "version": 3
   },
   "file_extension": ".py",
   "mimetype": "text/x-python",
   "name": "python",
   "nbconvert_exporter": "python",
   "pygments_lexer": "ipython3",
   "version": "3.7.6"
  }
 },
 "nbformat": 4,
 "nbformat_minor": 4
}
